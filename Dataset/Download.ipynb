{
 "cells": [
  {
   "cell_type": "markdown",
   "metadata": {},
   "source": [
    "## Download Dataset"
   ]
  },
  {
   "cell_type": "code",
   "execution_count": 1,
   "metadata": {},
   "outputs": [
    {
     "name": "stdout",
     "output_type": "stream",
     "text": [
      "--2020-05-11 14:39:05--  https://web.stanford.edu/~hastie/Papers/LARS/diabetes.data\n",
      "Resolving web.stanford.edu (web.stanford.edu)... 171.67.215.200\n",
      "Connecting to web.stanford.edu (web.stanford.edu)|171.67.215.200|:443... connected.\n",
      "HTTP request sent, awaiting response... 200 OK\n",
      "Length: 18496 (18K)\n",
      "Saving to: ‘diabetes.data’\n",
      "\n",
      "diabetes.data       100%[===================>]  18.06K  11.0KB/s    in 1.6s    \n",
      "\n",
      "2020-05-11 14:39:10 (11.0 KB/s) - ‘diabetes.data’ saved [18496/18496]\n",
      "\n"
     ]
    }
   ],
   "source": [
    "!wget \"https://web.stanford.edu/~hastie/Papers/LARS/diabetes.data\""
   ]
  },
  {
   "cell_type": "markdown",
   "metadata": {},
   "source": [
    "## Accessing the data"
   ]
  },
  {
   "cell_type": "code",
   "execution_count": 2,
   "metadata": {},
   "outputs": [],
   "source": [
    "import numpy as np\n",
    "data = np.genfromtxt('diabetes.data', delimiter='\\t')\n",
    "features = ['age', 'sex', 'body mass index', 'blood pressure', \n",
    "            'serum1', 'serum2', 'serum3', 'serum4', 'serum5', 'serum6']"
   ]
  },
  {
   "cell_type": "code",
   "execution_count": 3,
   "metadata": {},
   "outputs": [
    {
     "data": {
      "text/plain": [
       "array([[     nan,      nan,      nan, ...,      nan,      nan,      nan],\n",
       "       [ 59.    ,   2.    ,  32.1   , ...,   4.8598,  87.    , 151.    ],\n",
       "       [ 48.    ,   1.    ,  21.6   , ...,   3.8918,  69.    ,  75.    ],\n",
       "       ...,\n",
       "       [ 60.    ,   2.    ,  24.9   , ...,   4.1271,  95.    , 132.    ],\n",
       "       [ 36.    ,   1.    ,  30.    , ...,   5.1299,  85.    , 220.    ],\n",
       "       [ 36.    ,   1.    ,  19.6   , ...,   4.5951,  92.    ,  57.    ]])"
      ]
     },
     "execution_count": 3,
     "metadata": {},
     "output_type": "execute_result"
    }
   ],
   "source": [
    "data"
   ]
  },
  {
   "cell_type": "code",
   "execution_count": 4,
   "metadata": {},
   "outputs": [],
   "source": [
    "data=np.delete(data,0,0)"
   ]
  },
  {
   "cell_type": "code",
   "execution_count": 5,
   "metadata": {},
   "outputs": [
    {
     "data": {
      "text/plain": [
       "array([[ 59.    ,   2.    ,  32.1   , ...,   4.8598,  87.    , 151.    ],\n",
       "       [ 48.    ,   1.    ,  21.6   , ...,   3.8918,  69.    ,  75.    ],\n",
       "       [ 72.    ,   2.    ,  30.5   , ...,   4.6728,  85.    , 141.    ],\n",
       "       ...,\n",
       "       [ 60.    ,   2.    ,  24.9   , ...,   4.1271,  95.    , 132.    ],\n",
       "       [ 36.    ,   1.    ,  30.    , ...,   5.1299,  85.    , 220.    ],\n",
       "       [ 36.    ,   1.    ,  19.6   , ...,   4.5951,  92.    ,  57.    ]])"
      ]
     },
     "execution_count": 5,
     "metadata": {},
     "output_type": "execute_result"
    }
   ],
   "source": [
    "data"
   ]
  },
  {
   "cell_type": "code",
   "execution_count": 6,
   "metadata": {},
   "outputs": [
    {
     "data": {
      "text/plain": [
       "(442, 11)"
      ]
     },
     "execution_count": 6,
     "metadata": {},
     "output_type": "execute_result"
    }
   ],
   "source": [
    "data.shape"
   ]
  }
 ],
 "metadata": {
  "kernelspec": {
   "display_name": "Python 3",
   "language": "python",
   "name": "python3"
  },
  "language_info": {
   "codemirror_mode": {
    "name": "ipython",
    "version": 3
   },
   "file_extension": ".py",
   "mimetype": "text/x-python",
   "name": "python",
   "nbconvert_exporter": "python",
   "pygments_lexer": "ipython3",
   "version": "3.7.7"
  }
 },
 "nbformat": 4,
 "nbformat_minor": 4
}
